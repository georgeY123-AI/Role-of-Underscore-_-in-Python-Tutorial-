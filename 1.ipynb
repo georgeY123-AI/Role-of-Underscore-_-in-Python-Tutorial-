{
 "cells": [
  {
   "cell_type": "markdown",
   "metadata": {},
   "source": [
    "( _ ) in interprating"
   ]
  },
  {
   "cell_type": "code",
   "execution_count": 15,
   "metadata": {},
   "outputs": [
    {
     "data": {
      "text/plain": [
       "5"
      ]
     },
     "execution_count": 15,
     "metadata": {},
     "output_type": "execute_result"
    }
   ],
   "source": [
    "2+3"
   ]
  },
  {
   "cell_type": "code",
   "execution_count": 16,
   "metadata": {},
   "outputs": [
    {
     "data": {
      "text/plain": [
       "5"
      ]
     },
     "execution_count": 16,
     "metadata": {},
     "output_type": "execute_result"
    }
   ],
   "source": [
    "_"
   ]
  },
  {
   "cell_type": "code",
   "execution_count": 17,
   "metadata": {},
   "outputs": [
    {
     "data": {
      "text/plain": [
       "6"
      ]
     },
     "execution_count": 17,
     "metadata": {},
     "output_type": "execute_result"
    }
   ],
   "source": [
    "_+1"
   ]
  },
  {
   "cell_type": "markdown",
   "metadata": {},
   "source": [
    "( _ ) in ignoring values"
   ]
  },
  {
   "cell_type": "code",
   "execution_count": 18,
   "metadata": {},
   "outputs": [
    {
     "data": {
      "text/plain": [
       "3"
      ]
     },
     "execution_count": 18,
     "metadata": {},
     "output_type": "execute_result"
    }
   ],
   "source": [
    "lst = [1,2,3,5]\n",
    "a,_,_,b = lst\n",
    "_\n",
    "\n",
    "# the _ save the last value\n",
    "# ignor the value of 2,3 (dont need them)"
   ]
  },
  {
   "cell_type": "markdown",
   "metadata": {},
   "source": [
    "use in looping"
   ]
  },
  {
   "cell_type": "code",
   "execution_count": 19,
   "metadata": {},
   "outputs": [
    {
     "name": "stdout",
     "output_type": "stream",
     "text": [
      "5\n",
      "6\n",
      "7\n",
      "8\n",
      "9\n",
      "10\n"
     ]
    }
   ],
   "source": [
    "_ = 5\n",
    "while _ <= 10 : \n",
    "    print(_)\n",
    "    _ +=1"
   ]
  },
  {
   "cell_type": "markdown",
   "metadata": {},
   "source": [
    "separating digits of numbers"
   ]
  },
  {
   "cell_type": "code",
   "execution_count": 20,
   "metadata": {},
   "outputs": [
    {
     "data": {
      "text/plain": [
       "100000000"
      ]
     },
     "execution_count": 20,
     "metadata": {},
     "output_type": "execute_result"
    }
   ],
   "source": [
    "x =100_000_000\n",
    "x"
   ]
  },
  {
   "cell_type": "markdown",
   "metadata": {},
   "source": [
    "Naming"
   ]
  },
  {
   "cell_type": "markdown",
   "metadata": {},
   "source": [
    "single pre underscore _name"
   ]
  },
  {
   "cell_type": "code",
   "execution_count": 21,
   "metadata": {},
   "outputs": [
    {
     "name": "stdout",
     "output_type": "stream",
     "text": [
      " hello\n",
      "6\n"
     ]
    }
   ],
   "source": [
    "def hi():\n",
    "    return \" hello\"\n",
    "def _num(): \n",
    "    return 6\n",
    "\n",
    "print(hi())\n",
    "print(_num())\n",
    "# can not call the _num out side this class bec it is *private*\n",
    "# if u import this privet name or function it will print the contant of it normaly \n"
   ]
  },
  {
   "cell_type": "markdown",
   "metadata": {},
   "source": [
    "single post underscore name_"
   ]
  },
  {
   "cell_type": "code",
   "execution_count": 27,
   "metadata": {},
   "outputs": [],
   "source": [
    " #class = 5 #----> # wrong \n",
    "class_ = 5 #----> # right "
   ]
  },
  {
   "cell_type": "markdown",
   "metadata": {},
   "source": [
    "double pre underscore __name"
   ]
  },
  {
   "cell_type": "code",
   "execution_count": 37,
   "metadata": {},
   "outputs": [
    {
     "name": "stdout",
     "output_type": "stream",
     "text": [
      "8\n",
      "1\n",
      "3\n"
     ]
    }
   ],
   "source": [
    "class test():\n",
    "    def __init__(self) :\n",
    "        self._z=8           # -> privet\n",
    "        self.a=1\n",
    "        self.__b=3\n",
    "\n",
    "obj = test()\n",
    "print(obj._z)\n",
    "print(obj.a)\n",
    "print(obj._test__b)\n",
    "\n",
    "\n",
    "\n",
    " "
   ]
  },
  {
   "cell_type": "code",
   "execution_count": 36,
   "metadata": {},
   "outputs": [
    {
     "name": "stdout",
     "output_type": "stream",
     "text": [
      "9\n",
      "e\n",
      "e\n",
      "3\n"
     ]
    }
   ],
   "source": [
    "class test2():\n",
    "    def __init__(self) :\n",
    "        self.a=9\n",
    "        self.__b=\"e\"\n",
    "\n",
    "    def get_ex(self) :\n",
    "        return self.__b\n",
    "\n",
    "obj2 = test2()\n",
    "print(obj2.a)\n",
    "print(obj2._test2__b)    #\n",
    "print(obj2.get_ex())     #\n",
    "print(obj._test__b)      #\n"
   ]
  },
  {
   "cell_type": "code",
   "execution_count": 25,
   "metadata": {},
   "outputs": [
    {
     "name": "stdout",
     "output_type": "stream",
     "text": [
      "1\n",
      "2\n",
      "okay\n"
     ]
    }
   ],
   "source": [
    "_test__c = \"okay\"\n",
    "class test():\n",
    "    def __init__(self) :\n",
    "     self.a=1\n",
    "     self._b=2\n",
    "\n",
    "    def  R (self) :\n",
    "        return __c\n",
    "\n",
    "obj = test()\n",
    "print(obj.a)\n",
    "print(obj._b)\n",
    "print(obj.R())\n",
    "\n",
    "\n",
    " "
   ]
  },
  {
   "cell_type": "code",
   "execution_count": 26,
   "metadata": {},
   "outputs": [
    {
     "data": {
      "text/plain": [
       "7"
      ]
     },
     "execution_count": 26,
     "metadata": {},
     "output_type": "execute_result"
    }
   ],
   "source": [
    "class Sample():\n",
    "\n",
    "    def __init__(self):\n",
    "        self.__num__ = 7\n",
    "\n",
    "obj = Sample()\n",
    "obj.__num__\n"
   ]
  }
 ],
 "metadata": {
  "kernelspec": {
   "display_name": "base",
   "language": "python",
   "name": "python3"
  },
  "language_info": {
   "codemirror_mode": {
    "name": "ipython",
    "version": 3
   },
   "file_extension": ".py",
   "mimetype": "text/x-python",
   "name": "python",
   "nbconvert_exporter": "python",
   "pygments_lexer": "ipython3",
   "version": "3.11.5"
  }
 },
 "nbformat": 4,
 "nbformat_minor": 2
}
